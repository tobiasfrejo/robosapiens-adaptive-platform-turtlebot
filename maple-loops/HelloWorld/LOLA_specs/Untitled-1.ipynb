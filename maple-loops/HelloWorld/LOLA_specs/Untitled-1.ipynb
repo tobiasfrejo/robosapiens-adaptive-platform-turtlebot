{
 "cells": [
  {
   "cell_type": "code",
   "execution_count": 3,
   "metadata": {},
   "outputs": [],
   "source": [
    "import sympy as sp\n",
    "from sympy.abc import s,t\n",
    "Ax = sp.Symbol('A_x')\n",
    "Ay = sp.Symbol('A_y')\n",
    "Bx = sp.Symbol('B_x')\n",
    "By = sp.Symbol('B_y')\n",
    "Px = sp.Symbol('P_x')\n",
    "Py = sp.Symbol('P_y')\n",
    "\n",
    "eq1 = sp.Eq(\n",
    "    Px + t*(Ay-By),\n",
    "    Ax + s*(Bx-Ax)\n",
    ")\n",
    "eq2 = sp.Eq(\n",
    "    Py + t*(Bx-Ax),\n",
    "    Ay + s*(By-Ay)\n",
    ")\n",
    "\n",
    "sol = sp.solve((eq1, eq2), [s, t])"
   ]
  },
  {
   "cell_type": "code",
   "execution_count": 5,
   "metadata": {},
   "outputs": [
    {
     "data": {
      "text/latex": [
       "$\\displaystyle \\frac{A_{x}^{2} - A_{x} B_{x} - A_{x} P_{x} + A_{y}^{2} - A_{y} B_{y} - A_{y} P_{y} + B_{x} P_{x} + B_{y} P_{y}}{A_{x}^{2} - 2 A_{x} B_{x} + A_{y}^{2} - 2 A_{y} B_{y} + B_{x}^{2} + B_{y}^{2}}$"
      ],
      "text/plain": [
       "(A_x**2 - A_x*B_x - A_x*P_x + A_y**2 - A_y*B_y - A_y*P_y + B_x*P_x + B_y*P_y)/(A_x**2 - 2*A_x*B_x + A_y**2 - 2*A_y*B_y + B_x**2 + B_y**2)"
      ]
     },
     "execution_count": 5,
     "metadata": {},
     "output_type": "execute_result"
    }
   ],
   "source": [
    "sol[s]"
   ]
  },
  {
   "cell_type": "code",
   "execution_count": 19,
   "metadata": {},
   "outputs": [
    {
     "data": {
      "text/latex": [
       "$\\displaystyle A_{x}^{2} - A_{x} B_{x} - A_{x} P_{x} + A_{y}^{2} - A_{y} B_{y} - A_{y} P_{y} + B_{x} P_{x} + B_{y} P_{y}$"
      ],
      "text/plain": [
       "A_x**2 - A_x*B_x - A_x*P_x + A_y**2 - A_y*B_y - A_y*P_y + B_x*P_x + B_y*P_y"
      ]
     },
     "execution_count": 19,
     "metadata": {},
     "output_type": "execute_result"
    }
   ],
   "source": [
    "sp.factor(sp.numer(sol[s]))"
   ]
  },
  {
   "cell_type": "code",
   "execution_count": 21,
   "metadata": {},
   "outputs": [
    {
     "data": {
      "text/latex": [
       "$\\displaystyle a b + a c + b c$"
      ],
      "text/plain": [
       "a*b + a*c + b*c"
      ]
     },
     "execution_count": 21,
     "metadata": {},
     "output_type": "execute_result"
    }
   ],
   "source": [
    "from sympy.abc import a, b, c\n",
    "\n",
    "sp.expand(\n",
    "    a*b + a*c + b*c\n",
    ")"
   ]
  },
  {
   "cell_type": "code",
   "execution_count": 27,
   "metadata": {},
   "outputs": [
    {
     "data": {
      "text/latex": [
       "$\\displaystyle \\frac{A_{x} P_{y} + A_{y} P_{x} - B_{x} P_{y} - B_{y} P_{x}}{A_{x} - B_{x}}$"
      ],
      "text/plain": [
       "(A_x*P_y + A_y*P_x - B_x*P_y - B_y*P_x)/(A_x - B_x)"
      ]
     },
     "execution_count": 27,
     "metadata": {},
     "output_type": "execute_result"
    }
   ],
   "source": [
    "from sympy.abc import m, b\n",
    "\n",
    "b2 = sp.symbols('b_2')\n",
    "Prx = sp.symbols('Pr_x')\n",
    "Pry = sp.symbols('Pr_y')\n",
    "Px = sp.symbols('P_x')\n",
    "Py = sp.symbols('P_y')\n",
    "\n",
    "\n",
    "sp.solve([\n",
    "    m*Ax+b-Ay,\n",
    "    m*Bx+b-By,\n",
    "    -m*Px+b2-Py\n",
    "], [\n",
    "    m, b, b2\n",
    "])[b2]"
   ]
  }
 ],
 "metadata": {
  "kernelspec": {
   "display_name": "Python 3",
   "language": "python",
   "name": "python3"
  },
  "language_info": {
   "codemirror_mode": {
    "name": "ipython",
    "version": 3
   },
   "file_extension": ".py",
   "mimetype": "text/x-python",
   "name": "python",
   "nbconvert_exporter": "python",
   "pygments_lexer": "ipython3",
   "version": "3.10.12"
  }
 },
 "nbformat": 4,
 "nbformat_minor": 2
}
