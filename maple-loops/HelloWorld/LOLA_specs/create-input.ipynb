{
 "cells": [
  {
   "cell_type": "code",
   "execution_count": 7,
   "metadata": {},
   "outputs": [
    {
     "name": "stdout",
     "output_type": "stream",
     "text": [
      "// Full simple good maple loop\n",
      "0: atomicstage = \"start_m\"\n",
      "1: atomicstage = \"end_m\"\n",
      "2: atomicstage = \"start_a\"\n",
      "3: atomicstage = \"end_aok\"\n",
      "4: atomicstage = \"start_m\"\n",
      "5: atomicstage = \"end_m\"\n",
      "6: atomicstage = \"start_a\"\n",
      "7: atomicstage = \"end_anom\"\n",
      "8: atomicstage = \"start_p\"\n",
      "9: atomicstage = \"start_m\"\n",
      "10: atomicstage = \"end_m\"\n",
      "11: atomicstage = \"start_a\"\n",
      "12: atomicstage = \"end_aok\"\n",
      "13: atomicstage = \"end_p\"\n",
      "14: atomicstage = \"start_l\"\n",
      "15: atomicstage = \"start_m\"\n",
      "16: atomicstage = \"end_l\"\n",
      "17: atomicstage = \"end_m\"\n",
      "18: atomicstage = \"start_e\"\n",
      "19: atomicstage = \"start_a\"\n",
      "20: atomicstage = \"end_e\"\n",
      "21: atomicstage = \"end_aok\"\n",
      "\n"
     ]
    }
   ],
   "source": [
    "stream_name= \"atomicstage\"\n",
    "\n",
    "header = \"\"\"\\\n",
    "// Full simple good maple loop\n",
    "\"\"\"\n",
    "\n",
    "inp = \"\"\"\\\n",
    "start_m\n",
    "end_m\n",
    "start_a\n",
    "end_aok\n",
    "start_m\n",
    "end_m\n",
    "start_a\n",
    "end_anom\n",
    "start_p\n",
    "start_m\n",
    "end_m\n",
    "start_a\n",
    "end_aok\n",
    "end_p\n",
    "start_l\n",
    "start_m\n",
    "end_l\n",
    "end_m\n",
    "start_e\n",
    "start_a\n",
    "end_e\n",
    "end_aok\n",
    "\"\"\"\n",
    "\n",
    "text = header\n",
    "for n,l in enumerate(inp.splitlines()):\n",
    "    text+=f'{n}: {stream_name} = \"{l}\"\\n'\n",
    "\n",
    "print(text)"
   ]
  },
  {
   "cell_type": "code",
   "execution_count": 1,
   "metadata": {},
   "outputs": [],
   "source": [
    "def create_input(outfile, stream_name, lines):\n",
    "    text = \"\"\n",
    "    for n,l in enumerate(lines.splitlines()):\n",
    "        text+=f'{n}: {stream_name} = \"{l}\"\\n'\n",
    "\n",
    "    with open(outfile, 'w') as f:\n",
    "        f.write(text)\n",
    "\n",
    "    print(text)"
   ]
  },
  {
   "cell_type": "code",
   "execution_count": null,
   "metadata": {},
   "outputs": [
    {
     "name": "stdout",
     "output_type": "stream",
     "text": [
      "0: atomicstage = \"start_m\"\n",
      "1: atomicstage = \"end_m\"\n",
      "2: atomicstage = \"start_a\"\n",
      "3: atomicstage = \"start_m\"\n",
      "4: atomicstage = \"end_m\"\n",
      "5: atomicstage = \"end_aok\"\n",
      "\n"
     ]
    }
   ],
   "source": [
    "create_input('new-atomicity-bad-4.input', 'atomicstage',\n",
    "\"\"\"\\\n",
    "start_m\n",
    "end_m\n",
    "start_a\n",
    "start_m\n",
    "end_m\n",
    "end_aok\n",
    "\"\"\")"
   ]
  },
  {
   "cell_type": "code",
   "execution_count": 6,
   "metadata": {},
   "outputs": [
    {
     "name": "stdout",
     "output_type": "stream",
     "text": [
      "0: atomicstage = \"start_p\"\n",
      "1: atomicstage = \"start_l\"\n",
      "2: atomicstage = \"end_p\"\n",
      "3: atomicstage = \"end_l\"\n",
      "4: atomicstage = \"start_e\"\n",
      "5: atomicstage = \"end_e\"\n",
      "\n"
     ]
    }
   ],
   "source": [
    "create_input('new-atomicity-bad-5.input', 'atomicstage',\n",
    "\"\"\"\\\n",
    "start_p\n",
    "start_l\n",
    "end_p\n",
    "end_l\n",
    "start_e\n",
    "end_e\n",
    "\"\"\")"
   ]
  },
  {
   "cell_type": "code",
   "execution_count": 7,
   "metadata": {},
   "outputs": [
    {
     "name": "stdout",
     "output_type": "stream",
     "text": [
      "0: atomicstage = \"start_m\"\n",
      "1: atomicstage = \"start_a\"\n",
      "2: atomicstage = \"end_m\"\n",
      "3: atomicstage = \"end_aok\"\n",
      "\n"
     ]
    }
   ],
   "source": [
    "create_input('new-atomicity-bad-6.input', 'atomicstage',\n",
    "\"\"\"\\\n",
    "start_m\n",
    "start_a\n",
    "end_m\n",
    "end_aok\n",
    "\"\"\")"
   ]
  },
  {
   "cell_type": "code",
   "execution_count": 4,
   "metadata": {},
   "outputs": [
    {
     "name": "stdout",
     "output_type": "stream",
     "text": [
      "0: PhaseWrite = \"start\"\n",
      "1: PhaseWrite = \"write\"\n",
      "2: PhaseWrite = \"write\"\n",
      "3: PhaseWrite = \"end\"\n",
      "4: PhaseWrite = \"start\"\n",
      "\n"
     ]
    }
   ],
   "source": [
    "create_input('knowledge/good-1.input', 'PhaseWrite',\n",
    "\"\"\"\\\n",
    "start\n",
    "write\n",
    "write\n",
    "end\n",
    "start\n",
    "\"\"\")"
   ]
  },
  {
   "cell_type": "code",
   "execution_count": 5,
   "metadata": {},
   "outputs": [
    {
     "name": "stdout",
     "output_type": "stream",
     "text": [
      "0: PhaseWrite = \"start\"\n",
      "1: PhaseWrite = \"end\"\n",
      "\n"
     ]
    }
   ],
   "source": [
    "create_input('knowledge/bad-1.input', 'PhaseWrite',\n",
    "\"\"\"\\\n",
    "start\n",
    "end\n",
    "\"\"\")"
   ]
  },
  {
   "cell_type": "code",
   "execution_count": 6,
   "metadata": {},
   "outputs": [
    {
     "name": "stdout",
     "output_type": "stream",
     "text": [
      "0: PhaseWrite = \"start\"\n",
      "1: PhaseWrite = \"write\"\n",
      "2: PhaseWrite = \"end\"\n",
      "3: PhaseWrite = \"write\"\n",
      "4: PhaseWrite = \"start\"\n",
      "\n"
     ]
    }
   ],
   "source": [
    "create_input('knowledge/bad-2.input', 'PhaseWrite',\n",
    "\"\"\"\\\n",
    "start\n",
    "write\n",
    "end\n",
    "write\n",
    "start\n",
    "\"\"\")"
   ]
  },
  {
   "cell_type": "code",
   "execution_count": null,
   "metadata": {},
   "outputs": [
    {
     "name": "stdout",
     "output_type": "stream",
     "text": [
      "0: PhaseWrite = \"start\"\n",
      "1: PhaseWrite = \"write\"\n",
      "2: PhaseWrite = \"end\"\n",
      "3: PhaseWrite = \"write\"\n",
      "4: PhaseWrite = \"start\"\n",
      "\n"
     ]
    }
   ],
   "source": [
    "create_input('knowledge/bad-3.input', 'PhaseWrite',\n",
    "\"\"\"\\\n",
    "end\n",
    "start\n",
    "write\n",
    "end\n",
    "\"\"\")"
   ]
  },
  {
   "cell_type": "code",
   "execution_count": null,
   "metadata": {},
   "outputs": [],
   "source": []
  }
 ],
 "metadata": {
  "kernelspec": {
   "display_name": "Python 3",
   "language": "python",
   "name": "python3"
  },
  "language_info": {
   "codemirror_mode": {
    "name": "ipython",
    "version": 3
   },
   "file_extension": ".py",
   "mimetype": "text/x-python",
   "name": "python",
   "nbconvert_exporter": "python",
   "pygments_lexer": "ipython3",
   "version": "3.10.12"
  }
 },
 "nbformat": 4,
 "nbformat_minor": 2
}
