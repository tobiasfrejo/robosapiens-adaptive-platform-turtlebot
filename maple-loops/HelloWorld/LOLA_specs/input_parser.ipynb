{
 "cells": [
  {
   "cell_type": "code",
   "execution_count": 1,
   "metadata": {},
   "outputs": [],
   "source": [
    "import re\n",
    "\n",
    "t = \"\"\"\n",
    "// Comments\n",
    "0: atomicstage = \"start_m\"\n",
    "1: atomicstage = \"end_m\" // Comments\n",
    "2: atomicstage = \"start_a\"\n",
    "3: atomicstage = \"end_aok\"\n",
    "4: atomicstage = \"start_p\"\n",
    "5: atomicstage = \"start_m\"\n",
    "6: atomicstage = \"end_p\"\n",
    "7: atomicstage = \"end_m\"\n",
    "8: atomicstage = \"start_a\"\n",
    "9: atomicstage = \"end_a\"\n",
    "10: atomicstage = \"start_l\"\n",
    "11: atomicstage = \"end_l\"\n",
    "12: atomicstage = \"start_e\"\n",
    "13: atomicstage = \"end_e\"\n",
    "\"\"\"\n",
    "\n",
    "COMMENT = r'//.*'\n",
    "MAYBE_COMMENT = f'({COMMENT})?'\n",
    "WHITESPACE = r'\\s*'\n",
    "INDEX = r'(\\d+)'\n",
    "SEP = ':'\n",
    "STREAM = r'([a-zA-Z]+)'\n",
    "EQ = '='\n",
    "VAL = r'((true|false)|(\\d+)|\"(.*)\")'\n",
    "\n",
    "\n",
    "def join_pattern(*tokens):\n",
    "    pattern = WHITESPACE\n",
    "    for tok in tokens:\n",
    "        pattern += tok + WHITESPACE\n",
    "    return pattern\n",
    "\n",
    "\n",
    "def parse(inp:str):\n",
    "    lines = inp.split('\\n')\n",
    "    idx = None\n",
    "    steps = {}\n",
    "\n",
    "    for line in lines:\n",
    "        m = re.match(join_pattern(COMMENT) + r'|\\s*$', line)\n",
    "        if m:\n",
    "            continue\n",
    "        \n",
    "        m = re.match(join_pattern(INDEX, SEP, STREAM, EQ, VAL), line)\n",
    "        if m:\n",
    "            idx, stream, raw_val,val_bool,val_int,val_str = m.groups()\n",
    "            idx = int(idx)\n",
    "\n",
    "            if idx not in steps:\n",
    "                steps[idx] = dict()\n",
    "        else:\n",
    "            m = re.match(join_pattern(STREAM, EQ, VAL), line)\n",
    "            if m:\n",
    "                stream, raw_val,val_bool,val_int,val_str = m.groups()\n",
    "            \n",
    "            else:\n",
    "                raise Exception('Bad line: ', line)\n",
    "                \n",
    "        match (val_int, val_bool, val_str):\n",
    "            case (int() as i, None, None):\n",
    "                val = int(i)\n",
    "            case (None, str() as b, None):\n",
    "                val = b == \"true\"\n",
    "            case (None, None, str() as s):\n",
    "                val = s\n",
    "            case _:\n",
    "                val = raw_val\n",
    "\n",
    "        steps[idx][stream] = val\n",
    "\n",
    "    return steps\n",
    "\n"
   ]
  },
  {
   "cell_type": "code",
   "execution_count": 2,
   "metadata": {},
   "outputs": [],
   "source": [
    "def format_atomic(parsed:dict):\n",
    "    stages = {}\n",
    "    for step, streams in parsed.items():\n",
    "        val = streams.get('atomicstage')\n",
    "        if val is None:\n",
    "            raise Exception ('Missing stage in step', step)\n",
    "        m = re.fullmatch(r'(start|end)_([maple])(.*)?', val)\n",
    "        if m is None:\n",
    "            raise Exception ('Stage not matching:',val)\n",
    "        lifecycle, stage, extra = m.groups()\n",
    "        if stage not in stages:\n",
    "            stages[stage] = []\n",
    "        stages[stage].append((step, lifecycle, extra))\n",
    "    \n",
    "    return stages\n"
   ]
  },
  {
   "cell_type": "code",
   "execution_count": 3,
   "metadata": {},
   "outputs": [],
   "source": [
    "def chain(initial_value, *funcs):\n",
    "    v = initial_value\n",
    "    for func in funcs:\n",
    "        v = func(v)\n",
    "        print(v)\n",
    "    \n",
    "    return v"
   ]
  },
  {
   "cell_type": "code",
   "execution_count": 4,
   "metadata": {},
   "outputs": [
    {
     "name": "stdout",
     "output_type": "stream",
     "text": [
      "{0: {'atomicstage': 'start_m'}, 1: {'atomicstage': 'end_m'}, 2: {'atomicstage': 'start_a'}, 3: {'atomicstage': 'end_aok'}, 4: {'atomicstage': 'start_p'}, 5: {'atomicstage': 'start_m'}, 6: {'atomicstage': 'end_p'}, 7: {'atomicstage': 'end_m'}, 8: {'atomicstage': 'start_a'}, 9: {'atomicstage': 'end_a'}, 10: {'atomicstage': 'start_l'}, 11: {'atomicstage': 'end_l'}, 12: {'atomicstage': 'start_e'}, 13: {'atomicstage': 'end_e'}}\n",
      "{'m': [(0, 'start', ''), (1, 'end', ''), (5, 'start', ''), (7, 'end', '')], 'a': [(2, 'start', ''), (3, 'end', 'ok'), (8, 'start', ''), (9, 'end', '')], 'p': [(4, 'start', ''), (6, 'end', '')], 'l': [(10, 'start', ''), (11, 'end', '')], 'e': [(12, 'start', ''), (13, 'end', '')]}\n"
     ]
    },
    {
     "data": {
      "text/plain": [
       "{'m': [(0, 'start', ''), (1, 'end', ''), (5, 'start', ''), (7, 'end', '')],\n",
       " 'a': [(2, 'start', ''), (3, 'end', 'ok'), (8, 'start', ''), (9, 'end', '')],\n",
       " 'p': [(4, 'start', ''), (6, 'end', '')],\n",
       " 'l': [(10, 'start', ''), (11, 'end', '')],\n",
       " 'e': [(12, 'start', ''), (13, 'end', '')]}"
      ]
     },
     "execution_count": 4,
     "metadata": {},
     "output_type": "execute_result"
    }
   ],
   "source": [
    "chain(t,\n",
    "      parse,\n",
    "      format_atomic\n",
    ")\n"
   ]
  },
  {
   "cell_type": "code",
   "execution_count": 12,
   "metadata": {},
   "outputs": [
    {
     "name": "stdout",
     "output_type": "stream",
     "text": [
      "{0: {'atomicstage': 'start_m'}, 1: {'atomicstage': 'end_m'}, 2: {'atomicstage': 'start_a'}, 3: {'atomicstage': 'end_aok'}, 4: {'atomicstage': 'start_p'}, 5: {'atomicstage': 'start_m'}, 6: {'atomicstage': 'end_p'}, 7: {'atomicstage': 'end_m'}, 8: {'atomicstage': 'start_a'}, 9: {'atomicstage': 'end_a'}, 10: {'atomicstage': 'start_l'}, 11: {'atomicstage': 'end_l'}, 12: {'atomicstage': 'start_e'}, 13: {'atomicstage': 'end_e'}}\n",
      "{'m': [(0, 'start', ''), (1, 'end', ''), (5, 'start', ''), (7, 'end', '')], 'a': [(2, 'start', ''), (3, 'end', 'ok'), (8, 'start', ''), (9, 'end', '')], 'p': [(4, 'start', ''), (6, 'end', '')], 'l': [(10, 'start', ''), (11, 'end', '')], 'e': [(12, 'start', ''), (13, 'end', '')]}\n",
      "(<Figure size 1600x600 with 1 Axes>, <Axes: >)\n"
     ]
    },
    {
     "data": {
      "text/plain": [
       "(<Figure size 1600x600 with 1 Axes>, <Axes: >)"
      ]
     },
     "execution_count": 12,
     "metadata": {},
     "output_type": "execute_result"
    },
    {
     "data": {
      "image/png": "[encoded data removed]",
      "text/plain": [
       "<Figure size 1600x600 with 1 Axes>"
      ]
     },
     "metadata": {},
     "output_type": "display_data"
    }
   ],
   "source": [
    "import matplotlib.pyplot as plt\n",
    "from matplotlib.collections import PolyCollection\n",
    "\n",
    "    \n",
    "\n",
    "def plot_maple_stages(data):\n",
    "    def create_boxes(data:list[tuple[int,str,str]]):\n",
    "        boxes:list[tuple[int,int,str]] = []\n",
    "        starts = []\n",
    "        for step,lifecycle,extra in data:\n",
    "            match lifecycle:\n",
    "                case 'start':\n",
    "                    starts.append((step, extra))\n",
    "                case 'end':\n",
    "                    start_step, start_extra = starts.pop()\n",
    "                    if start_extra:\n",
    "                        extra = start_extra + ',' + extra\n",
    "                    boxes.append((start_step, step, extra))\n",
    "        # TODO: Handle cases without matching start and end\n",
    "        return boxes\n",
    "    \n",
    "    categories = {\n",
    "        'm': 0,\n",
    "        'a': 1,\n",
    "        'p': 2,\n",
    "        'l': 3,\n",
    "        'e': 4\n",
    "    }\n",
    "\n",
    "    verts = []\n",
    "    labels = []\n",
    "\n",
    "    for k,v in data.items():\n",
    "        y = categories[k]\n",
    "\n",
    "        for xfrom,xto,text in create_boxes(v):\n",
    "            v = [\n",
    "                (xfrom, y-.4),\n",
    "                (xfrom, y+.4),\n",
    "                (xto, y+.4),\n",
    "                (xto, y-.4),\n",
    "                (xfrom, y-.4),\n",
    "            ]\n",
    "            labels.append(((xfrom+xto)/2, y, text))\n",
    "            verts.append(v)\n",
    "\n",
    "    bars = PolyCollection(verts, zorder=3)\n",
    "\n",
    "    fig, ax = plt.subplots(figsize=[8,3], dpi=200)\n",
    "    for label in labels:\n",
    "        ax.text(*label, zorder=5, color='black', backgroundcolor='white', fontsize=10, va='center', ha='center')\n",
    "    ax.grid(zorder=0)\n",
    "    ax.add_collection(bars)\n",
    "    ax.autoscale()\n",
    "\n",
    "    ax.set_yticks(list(categories.values()))\n",
    "    ax.set_yticklabels(list((categories.keys())))\n",
    "\n",
    "    return fig, ax\n",
    "\n",
    "\n",
    "chain(t,\n",
    "      parse,\n",
    "      format_atomic,\n",
    "      plot_maple_stages\n",
    ")\n"
   ]
  }
 ],
 "metadata": {
  "kernelspec": {
   "display_name": ".venv",
   "language": "python",
   "name": "python3"
  },
  "language_info": {
   "codemirror_mode": {
    "name": "ipython",
    "version": 3
   },
   "file_extension": ".py",
   "mimetype": "text/x-python",
   "name": "python",
   "nbconvert_exporter": "python",
   "pygments_lexer": "ipython3",
   "version": "3.12.3"
  }
 },
 "nbformat": 4,
 "nbformat_minor": 2
}
